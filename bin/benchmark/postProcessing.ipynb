{
 "metadata": {
  "name": ""
 },
 "nbformat": 3,
 "nbformat_minor": 0,
 "worksheets": [
  {
   "cells": [
    {
     "cell_type": "code",
     "collapsed": false,
     "input": [
      "import pandas\n",
      "import matplotlib.pyplot as plt\n",
      "import numpy as np"
     ],
     "language": "python",
     "metadata": {},
     "outputs": [],
     "prompt_number": 3
    },
    {
     "cell_type": "markdown",
     "metadata": {},
     "source": [
      "    GROUPS\n",
      "    ---------------------------------------------------------------\n",
      "    names      = {\"AC_InHomeGrid\", \"AC_InHomeGridN\", \"AC_IEEE34_GridN\"};\n",
      "    methods    = {\"Radau\", \"Dassl\"};\n",
      "    endTimes   = {3600, 7200, 21600, 43200, 84600, 423000, 846000};\n",
      "    tolerances = {1e-4, 1e-5, 1e-6};"
     ]
    },
    {
     "cell_type": "code",
     "collapsed": false,
     "input": [
      "names = [\"20 Nodes, no Neutral\", \"20 nodes, Neutral\", \"IEEE34, 33 nodes, neutral\"]\n",
      "methods = [\"Radau\", \"Dassl\"]"
     ],
     "language": "python",
     "metadata": {},
     "outputs": [],
     "prompt_number": 56
    },
    {
     "cell_type": "code",
     "collapsed": false,
     "input": [
      "# Load the results\n",
      "data = pandas.io.parsers.read_csv(\"./benchmark.csv\")"
     ],
     "language": "python",
     "metadata": {},
     "outputs": [],
     "prompt_number": 53
    },
    {
     "cell_type": "code",
     "collapsed": false,
     "input": [
      "data.endTime = data.endTime/(3600.0*24.0)\n",
      "D = data.groupby(['method','model','tolerance'])\n",
      "tols = [1.0000000000000001e-05, 9.9999999999999995e-07, 0.0001]\n"
     ],
     "language": "python",
     "metadata": {},
     "outputs": [],
     "prompt_number": 54
    },
    {
     "cell_type": "code",
     "collapsed": false,
     "input": [
      "\n",
      "fig, axes = plt.subplots(nrows=1, ncols=3)\n",
      "\n",
      "for i in range(3):\n",
      "    D.get_group((1,i+1,tols[0])).plot(x='endTime', y='CPUtime', style='r-', label='%s tol=%.1e' % (methods[0], tols[0]), ax=axes[i])\n",
      "    D.get_group((1,i+1,tols[1])).plot(x='endTime',y='CPUtime',style='r--',label='%s tol=%.1e' % (methods[0], tols[1]), ax=axes[i])\n",
      "    D.get_group((1,i+1,tols[2])).plot(x='endTime',y='CPUtime',style='r-.',label='%s tol=%.1e' % (methods[0], tols[2]), ax=axes[i])\n",
      "    \n",
      "    D.get_group((2,i+1,tols[0])).plot(x='endTime',y='CPUtime',style='b-',label='%s tol=%.1e' % (methods[1], tols[0]), ax=axes[i])\n",
      "    D.get_group((2,i+1,tols[1])).plot(x='endTime',y='CPUtime',style='b--',label='%s tol=%.1e' % (methods[1], tols[1]), ax=axes[i])\n",
      "    D.get_group((2,i+1,tols[2])).plot(x='endTime',y='CPUtime',style='b-.',label='%s tol=%.1e' % (methods[1], tols[2]), ax=axes[i])\n",
      "    axes[i].set_title('%s' % names[i])\n",
      "    axes[i].set_xlabel('Simulation time [days]')\n",
      "    axes[i].set_ylabel('CPU time [s]')\n",
      "    plt.legend()\n",
      "\n",
      "plt.show()"
     ],
     "language": "python",
     "metadata": {},
     "outputs": [],
     "prompt_number": 67
    },
    {
     "cell_type": "code",
     "collapsed": false,
     "input": [],
     "language": "python",
     "metadata": {},
     "outputs": []
    }
   ],
   "metadata": {}
  }
 ]
}