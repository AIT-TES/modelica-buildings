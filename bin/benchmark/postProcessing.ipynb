{
 "metadata": {
  "name": ""
 },
 "nbformat": 3,
 "nbformat_minor": 0,
 "worksheets": [
  {
   "cells": [
    {
     "cell_type": "code",
     "collapsed": false,
     "input": [
      "import pandas\n",
      "import matplotlib.pyplot as plt\n",
      "import numpy as np"
     ],
     "language": "python",
     "metadata": {},
     "outputs": [],
     "prompt_number": 1
    },
    {
     "cell_type": "markdown",
     "metadata": {},
     "source": [
      "    GROUPS\n",
      "    ---------------------------------------------------------------\n",
      "    names      = {\"AC_InHomeGrid\", \"AC_InHomeGridN\", \"AC_IEEE34_GridN\"};\n",
      "    methods    = {\"Radau\", \"Dassl\"};\n",
      "    endTimes   = {3600, 7200, 21600, 43200, 84600, 423000, 846000};\n",
      "    tolerances = {1e-4, 1e-5, 1e-6};"
     ]
    },
    {
     "cell_type": "code",
     "collapsed": false,
     "input": [
      "# Load the results\n",
      "data = pandas.io.parsers.read_csv(\"./benchmark.csv\")"
     ],
     "language": "python",
     "metadata": {},
     "outputs": [],
     "prompt_number": 36
    },
    {
     "cell_type": "code",
     "collapsed": false,
     "input": [
      "D = data[np.logical_and(data.method==1, data.model==2)].groupby('tolerance')\n",
      "D.get_group(1).plot(x='endTime',y='CPUtime')\n",
      "D.get_group(2).plot(x='endTime',y='CPUtime')\n",
      "D.get_group(3).plot(x='endTime',y='CPUtime')\n",
      "plt.show()"
     ],
     "language": "python",
     "metadata": {},
     "outputs": [],
     "prompt_number": 37
    },
    {
     "cell_type": "code",
     "collapsed": false,
     "input": [
      "D = data.groupby(['method','model','tolerance'])\n",
      "D.get_group((1,1,1)).plot(x='endTime',y='CPUtime',style='r-',label='Radau tol')\n",
      "D.get_group((1,1,2)).plot(x='endTime',y='CPUtime',style='r--',label='Radau tol')\n",
      "D.get_group((1,1,3)).plot(x='endTime',y='CPUtime',style='r-.',label='Radau tol')\n",
      "D.get_group((2,1,1)).plot(x='endTime',y='CPUtime',style='b-',label='DASSL tol')\n",
      "D.get_group((2,1,2)).plot(x='endTime',y='CPUtime',style='b--',label='DASSL tol')\n",
      "D.get_group((2,1,3)).plot(x='endTime',y='CPUtime',style='b-.',label='DASSL tol')\n",
      "plt.legend()\n",
      "plt.show()"
     ],
     "language": "python",
     "metadata": {},
     "outputs": [],
     "prompt_number": 48
    },
    {
     "cell_type": "code",
     "collapsed": false,
     "input": [],
     "language": "python",
     "metadata": {},
     "outputs": []
    }
   ],
   "metadata": {}
  }
 ]
}